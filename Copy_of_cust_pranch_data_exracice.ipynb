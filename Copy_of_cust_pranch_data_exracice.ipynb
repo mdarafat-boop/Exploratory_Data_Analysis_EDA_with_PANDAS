{
  "cells": [
    {
      "cell_type": "markdown",
      "metadata": {
        "id": "view-in-github",
        "colab_type": "text"
      },
      "source": [
        "<a href=\"https://colab.research.google.com/github/mdarafat-boop/Exploratory_Data_Analysis_EDA_with_PANDAS/blob/main/Copy_of_cust_pranch_data_exracice.ipynb\" target=\"_parent\"><img src=\"https://colab.research.google.com/assets/colab-badge.svg\" alt=\"Open In Colab\"/></a>"
      ]
    },
    {
      "cell_type": "markdown",
      "source": [
        "Hey there,\n",
        "I'll gonna show :\n",
        "How to do data analysis using PANDAS in PYTHON"
      ],
      "metadata": {
        "id": "_OzisS9NE0PI"
      }
    },
    {
      "cell_type": "code",
      "execution_count": 21,
      "metadata": {
        "id": "SbSQ7BV5H0Qw",
        "colab": {
          "base_uri": "https://localhost:8080/"
        },
        "outputId": "d92f9ca1-74d9-4332-960f-1118e7198daa"
      },
      "outputs": [
        {
          "output_type": "stream",
          "name": "stdout",
          "text": [
            "Drive already mounted at /content/drive; to attempt to forcibly remount, call drive.mount(\"/content/drive\", force_remount=True).\n"
          ]
        }
      ],
      "source": [
        "import pandas as pd\n",
        "import csv\n",
        "from google.colab import drive\n",
        "drive.mount('/content/drive')\n",
        "file_path = '/content/drive/MyDrive/cust_purch_data_exracice/Cust_Purch_FakeData.csv'\n",
        "\n",
        "cust = pd.read_csv(file_path)\n"
      ]
    },
    {
      "cell_type": "markdown",
      "source": [
        "Questin 1: How many entries your data have? Can you tell the no. of columns in your data?"
      ],
      "metadata": {
        "id": "0QbDUvZeXO1C"
      }
    },
    {
      "cell_type": "code",
      "source": [
        "cust.info() # hit play button to run it"
      ],
      "metadata": {
        "id": "LcQdDyeBXNt7",
        "colab": {
          "base_uri": "https://localhost:8080/"
        },
        "outputId": "126bcfc6-8bb4-45cd-8c3c-df5d54c4c602"
      },
      "execution_count": null,
      "outputs": [
        {
          "output_type": "stream",
          "name": "stdout",
          "text": [
            "<class 'pandas.core.frame.DataFrame'>\n",
            "RangeIndex: 30000 entries, 0 to 29999\n",
            "Data columns (total 20 columns):\n",
            " #   Column      Non-Null Count  Dtype  \n",
            "---  ------      --------------  -----  \n",
            " 0   prefix      30000 non-null  object \n",
            " 1   first       30000 non-null  object \n",
            " 2   last        30000 non-null  object \n",
            " 3   email       30000 non-null  object \n",
            " 4   gender      30000 non-null  object \n",
            " 5   age         30000 non-null  int64  \n",
            " 6   company     30000 non-null  object \n",
            " 7   profession  30000 non-null  object \n",
            " 8   phone       30000 non-null  object \n",
            " 9   postal      30000 non-null  object \n",
            " 10  province    30000 non-null  object \n",
            " 11  cc_no       30000 non-null  int64  \n",
            " 12  cc_exp      30000 non-null  object \n",
            " 13  cc_type     30000 non-null  object \n",
            " 14  price(CAD)  30000 non-null  float64\n",
            " 15  fav_color   30000 non-null  object \n",
            " 16  ip          30000 non-null  object \n",
            " 17  weekday     30000 non-null  object \n",
            " 18  ampm        30000 non-null  object \n",
            " 19  date        30000 non-null  object \n",
            "dtypes: float64(1), int64(2), object(17)\n",
            "memory usage: 4.6+ MB\n"
          ]
        }
      ]
    },
    {
      "cell_type": "markdown",
      "source": [
        "Question no 2: What are the max and min ages of your customer? Can you find mean of your customer?"
      ],
      "metadata": {
        "id": "5bAl3KDBZFLE"
      }
    },
    {
      "cell_type": "code",
      "source": [
        "print('The maximun ages of the customers: ',cust['age'].max())\n",
        "print('The minimum ages of the customers: ',cust['age'].min())\n",
        "print('The avarege ages of the customers: ',cust['age'].mean().round(2))"
      ],
      "metadata": {
        "id": "APw6O61yZL8z",
        "colab": {
          "base_uri": "https://localhost:8080/"
        },
        "outputId": "84772077-4da6-4d1d-8e74-05bc492b139a"
      },
      "execution_count": 3,
      "outputs": [
        {
          "output_type": "stream",
          "name": "stdout",
          "text": [
            "The maximun ages of the customers:  65\n",
            "The minimum ages of the customers:  18\n",
            "The avarege ages of the customers:  41.55\n"
          ]
        }
      ]
    },
    {
      "cell_type": "markdown",
      "source": [
        "Question no 3: What are the three most common customer's names?"
      ],
      "metadata": {
        "id": "gBu4sVNJaVZz"
      }
    },
    {
      "cell_type": "code",
      "source": [
        "cust['first'].value_counts().head(3)"
      ],
      "metadata": {
        "id": "wEqXGvKlahhb",
        "colab": {
          "base_uri": "https://localhost:8080/",
          "height": 210
        },
        "outputId": "99090d0e-a849-4910-faad-1a4bef92d092"
      },
      "execution_count": 4,
      "outputs": [
        {
          "output_type": "execute_result",
          "data": {
            "text/plain": [
              "first\n",
              "Willie     130\n",
              "Francis    124\n",
              "Eula        86\n",
              "Name: count, dtype: int64"
            ],
            "text/html": [
              "<div>\n",
              "<style scoped>\n",
              "    .dataframe tbody tr th:only-of-type {\n",
              "        vertical-align: middle;\n",
              "    }\n",
              "\n",
              "    .dataframe tbody tr th {\n",
              "        vertical-align: top;\n",
              "    }\n",
              "\n",
              "    .dataframe thead th {\n",
              "        text-align: right;\n",
              "    }\n",
              "</style>\n",
              "<table border=\"1\" class=\"dataframe\">\n",
              "  <thead>\n",
              "    <tr style=\"text-align: right;\">\n",
              "      <th></th>\n",
              "      <th>count</th>\n",
              "    </tr>\n",
              "    <tr>\n",
              "      <th>first</th>\n",
              "      <th></th>\n",
              "    </tr>\n",
              "  </thead>\n",
              "  <tbody>\n",
              "    <tr>\n",
              "      <th>Willie</th>\n",
              "      <td>130</td>\n",
              "    </tr>\n",
              "    <tr>\n",
              "      <th>Francis</th>\n",
              "      <td>124</td>\n",
              "    </tr>\n",
              "    <tr>\n",
              "      <th>Eula</th>\n",
              "      <td>86</td>\n",
              "    </tr>\n",
              "  </tbody>\n",
              "</table>\n",
              "</div><br><label><b>dtype:</b> int64</label>"
            ]
          },
          "metadata": {},
          "execution_count": 4
        }
      ]
    },
    {
      "cell_type": "markdown",
      "source": [
        "Question no 4:  Two customers have the same phone number, can you find those customers?"
      ],
      "metadata": {
        "id": "a_LNoEnzbt3T"
      }
    },
    {
      "cell_type": "code",
      "source": [
        "cust.groupby('phone')['first'].count().sort_values(ascending=False).head(1)"
      ],
      "metadata": {
        "id": "jdIXdMsEb1VM",
        "colab": {
          "base_uri": "https://localhost:8080/",
          "height": 147
        },
        "outputId": "711b6abe-b6a8-4d12-8c5b-eff4ad8bf3ae"
      },
      "execution_count": 5,
      "outputs": [
        {
          "output_type": "execute_result",
          "data": {
            "text/plain": [
              "phone\n",
              "(263) 382-8004    2\n",
              "Name: first, dtype: int64"
            ],
            "text/html": [
              "<div>\n",
              "<style scoped>\n",
              "    .dataframe tbody tr th:only-of-type {\n",
              "        vertical-align: middle;\n",
              "    }\n",
              "\n",
              "    .dataframe tbody tr th {\n",
              "        vertical-align: top;\n",
              "    }\n",
              "\n",
              "    .dataframe thead th {\n",
              "        text-align: right;\n",
              "    }\n",
              "</style>\n",
              "<table border=\"1\" class=\"dataframe\">\n",
              "  <thead>\n",
              "    <tr style=\"text-align: right;\">\n",
              "      <th></th>\n",
              "      <th>first</th>\n",
              "    </tr>\n",
              "    <tr>\n",
              "      <th>phone</th>\n",
              "      <th></th>\n",
              "    </tr>\n",
              "  </thead>\n",
              "  <tbody>\n",
              "    <tr>\n",
              "      <th>(263) 382-8004</th>\n",
              "      <td>2</td>\n",
              "    </tr>\n",
              "  </tbody>\n",
              "</table>\n",
              "</div><br><label><b>dtype:</b> int64</label>"
            ]
          },
          "metadata": {},
          "execution_count": 5
        }
      ]
    },
    {
      "cell_type": "markdown",
      "source": [
        "Question no. 5: How many customers have profession \"Structural Engineer\"?"
      ],
      "metadata": {
        "id": "IKsejDwNEYDu"
      }
    },
    {
      "cell_type": "code",
      "source": [
        "cust[cust['profession'] == 'Structural Engineer'].count()['profession']"
      ],
      "metadata": {
        "id": "GFv21g94EnGW",
        "colab": {
          "base_uri": "https://localhost:8080/"
        },
        "outputId": "e41b9cc5-2129-4680-ef4d-87865b380a84"
      },
      "execution_count": 6,
      "outputs": [
        {
          "output_type": "execute_result",
          "data": {
            "text/plain": [
              "np.int64(87)"
            ]
          },
          "metadata": {},
          "execution_count": 6
        }
      ]
    },
    {
      "cell_type": "markdown",
      "source": [
        "Question no. 6 : How many male customers are 'Structural Engineer'?"
      ],
      "metadata": {
        "id": "4CJNqGnQG1NW"
      }
    },
    {
      "cell_type": "code",
      "source": [
        "cust[(cust['profession'] == 'Structural Engineer') & (cust['gender'] == 'Male')].count()['first']"
      ],
      "metadata": {
        "colab": {
          "base_uri": "https://localhost:8080/"
        },
        "id": "-Y9KLpfmIyGG",
        "outputId": "7aebbf04-693f-4795-8034-38b2f32f490f"
      },
      "execution_count": 7,
      "outputs": [
        {
          "output_type": "execute_result",
          "data": {
            "text/plain": [
              "np.int64(43)"
            ]
          },
          "metadata": {},
          "execution_count": 7
        }
      ]
    },
    {
      "cell_type": "markdown",
      "source": [
        "Question no. 7:  Find out the female Structural Engineers from province Alberta (AB)?"
      ],
      "metadata": {
        "id": "2qKcitDiWMGS"
      }
    },
    {
      "cell_type": "code",
      "source": [
        "cust[(cust['profession'] == 'Structural Engineer') & (cust['gender'] == 'Female') & (cust['province'] == 'AB')].count()"
      ],
      "metadata": {
        "colab": {
          "base_uri": "https://localhost:8080/",
          "height": 711
        },
        "id": "yGJXJI3EWWWR",
        "outputId": "0d7e49f7-ab5d-44fd-b57e-2bfb57e5d950"
      },
      "execution_count": 9,
      "outputs": [
        {
          "output_type": "execute_result",
          "data": {
            "text/plain": [
              "prefix        4\n",
              "first         4\n",
              "last          4\n",
              "email         4\n",
              "gender        4\n",
              "age           4\n",
              "company       4\n",
              "profession    4\n",
              "phone         4\n",
              "postal        4\n",
              "province      4\n",
              "cc_no         4\n",
              "cc_exp        4\n",
              "cc_type       4\n",
              "price(CAD)    4\n",
              "fav_color     4\n",
              "ip            4\n",
              "weekday       4\n",
              "ampm          4\n",
              "date          4\n",
              "dtype: int64"
            ],
            "text/html": [
              "<div>\n",
              "<style scoped>\n",
              "    .dataframe tbody tr th:only-of-type {\n",
              "        vertical-align: middle;\n",
              "    }\n",
              "\n",
              "    .dataframe tbody tr th {\n",
              "        vertical-align: top;\n",
              "    }\n",
              "\n",
              "    .dataframe thead th {\n",
              "        text-align: right;\n",
              "    }\n",
              "</style>\n",
              "<table border=\"1\" class=\"dataframe\">\n",
              "  <thead>\n",
              "    <tr style=\"text-align: right;\">\n",
              "      <th></th>\n",
              "      <th>0</th>\n",
              "    </tr>\n",
              "  </thead>\n",
              "  <tbody>\n",
              "    <tr>\n",
              "      <th>prefix</th>\n",
              "      <td>4</td>\n",
              "    </tr>\n",
              "    <tr>\n",
              "      <th>first</th>\n",
              "      <td>4</td>\n",
              "    </tr>\n",
              "    <tr>\n",
              "      <th>last</th>\n",
              "      <td>4</td>\n",
              "    </tr>\n",
              "    <tr>\n",
              "      <th>email</th>\n",
              "      <td>4</td>\n",
              "    </tr>\n",
              "    <tr>\n",
              "      <th>gender</th>\n",
              "      <td>4</td>\n",
              "    </tr>\n",
              "    <tr>\n",
              "      <th>age</th>\n",
              "      <td>4</td>\n",
              "    </tr>\n",
              "    <tr>\n",
              "      <th>company</th>\n",
              "      <td>4</td>\n",
              "    </tr>\n",
              "    <tr>\n",
              "      <th>profession</th>\n",
              "      <td>4</td>\n",
              "    </tr>\n",
              "    <tr>\n",
              "      <th>phone</th>\n",
              "      <td>4</td>\n",
              "    </tr>\n",
              "    <tr>\n",
              "      <th>postal</th>\n",
              "      <td>4</td>\n",
              "    </tr>\n",
              "    <tr>\n",
              "      <th>province</th>\n",
              "      <td>4</td>\n",
              "    </tr>\n",
              "    <tr>\n",
              "      <th>cc_no</th>\n",
              "      <td>4</td>\n",
              "    </tr>\n",
              "    <tr>\n",
              "      <th>cc_exp</th>\n",
              "      <td>4</td>\n",
              "    </tr>\n",
              "    <tr>\n",
              "      <th>cc_type</th>\n",
              "      <td>4</td>\n",
              "    </tr>\n",
              "    <tr>\n",
              "      <th>price(CAD)</th>\n",
              "      <td>4</td>\n",
              "    </tr>\n",
              "    <tr>\n",
              "      <th>fav_color</th>\n",
              "      <td>4</td>\n",
              "    </tr>\n",
              "    <tr>\n",
              "      <th>ip</th>\n",
              "      <td>4</td>\n",
              "    </tr>\n",
              "    <tr>\n",
              "      <th>weekday</th>\n",
              "      <td>4</td>\n",
              "    </tr>\n",
              "    <tr>\n",
              "      <th>ampm</th>\n",
              "      <td>4</td>\n",
              "    </tr>\n",
              "    <tr>\n",
              "      <th>date</th>\n",
              "      <td>4</td>\n",
              "    </tr>\n",
              "  </tbody>\n",
              "</table>\n",
              "</div><br><label><b>dtype:</b> int64</label>"
            ]
          },
          "metadata": {},
          "execution_count": 9
        }
      ]
    },
    {
      "cell_type": "markdown",
      "source": [
        "Question no. 8: What is the max, min and average spending?"
      ],
      "metadata": {
        "id": "07S_IazqXMzq"
      }
    },
    {
      "cell_type": "code",
      "source": [
        "print('The maximum spending: ',cust['price(CAD)'].max())\n",
        "print('The minimum spending: ',cust['price(CAD)'].min())\n",
        "print('The average spending: ',cust['price(CAD)'].mean().round(2))"
      ],
      "metadata": {
        "colab": {
          "base_uri": "https://localhost:8080/"
        },
        "id": "atT1SE9rXiwx",
        "outputId": "a7dfcc69-f51d-4bf0-d36d-a4cee2f85e2a"
      },
      "execution_count": 10,
      "outputs": [
        {
          "output_type": "stream",
          "name": "stdout",
          "text": [
            "The maximum spending:  100.0\n",
            "The minimum spending:  0.0\n",
            "The average spending:  49.99\n"
          ]
        }
      ]
    },
    {
      "cell_type": "markdown",
      "source": [
        "Question no. 9:  Who did not spend anything? Company wants to send a deal to encourage the customer to buy stuff!"
      ],
      "metadata": {
        "id": "GBoNGXdjYSp5"
      }
    },
    {
      "cell_type": "code",
      "source": [
        "cust[cust['price(CAD)'] == 0.0]"
      ],
      "metadata": {
        "colab": {
          "base_uri": "https://localhost:8080/",
          "height": 236
        },
        "id": "JQ1PAgQOYasR",
        "outputId": "17b8db4a-ee44-4f35-81dc-641abf1ab776"
      },
      "execution_count": 17,
      "outputs": [
        {
          "output_type": "execute_result",
          "data": {
            "text/plain": [
              "      prefix  first   last           email  gender  age              company  \\\n",
              "5320     Dr.  Bruce  Bryan  ru@pubuspuh.cl    Male   59  Wal-Mart Stores Inc   \n",
              "10597   Mrs.  Flora  Clark      wad@me.com  Female   27         MetLife Inc.   \n",
              "\n",
              "                profession           phone   postal province            cc_no  \\\n",
              "5320   Engineer Technician  (709) 446-8317  H6H 3Y0       NU  201000000000000   \n",
              "10597      Cruise Director  (775) 373-6590  B2U 8K6       NB   30100000000000   \n",
              "\n",
              "        cc_exp                    cc_type  price(CAD) fav_color  \\\n",
              "5320   04/2024                   Bankcard         0.0     White   \n",
              "10597  05/2020  Diners Club Carte Blanche         0.0       Red   \n",
              "\n",
              "                  ip    weekday ampm        date  \n",
              "5320     82.70.62.64  Wednesday   am  12/11/1900  \n",
              "10597  231.156.15.63   Thursday   pm  08/22/1904  "
            ],
            "text/html": [
              "\n",
              "  <div id=\"df-7ea46709-0ecd-4078-ac13-ed4d69f63d54\" class=\"colab-df-container\">\n",
              "    <div>\n",
              "<style scoped>\n",
              "    .dataframe tbody tr th:only-of-type {\n",
              "        vertical-align: middle;\n",
              "    }\n",
              "\n",
              "    .dataframe tbody tr th {\n",
              "        vertical-align: top;\n",
              "    }\n",
              "\n",
              "    .dataframe thead th {\n",
              "        text-align: right;\n",
              "    }\n",
              "</style>\n",
              "<table border=\"1\" class=\"dataframe\">\n",
              "  <thead>\n",
              "    <tr style=\"text-align: right;\">\n",
              "      <th></th>\n",
              "      <th>prefix</th>\n",
              "      <th>first</th>\n",
              "      <th>last</th>\n",
              "      <th>email</th>\n",
              "      <th>gender</th>\n",
              "      <th>age</th>\n",
              "      <th>company</th>\n",
              "      <th>profession</th>\n",
              "      <th>phone</th>\n",
              "      <th>postal</th>\n",
              "      <th>province</th>\n",
              "      <th>cc_no</th>\n",
              "      <th>cc_exp</th>\n",
              "      <th>cc_type</th>\n",
              "      <th>price(CAD)</th>\n",
              "      <th>fav_color</th>\n",
              "      <th>ip</th>\n",
              "      <th>weekday</th>\n",
              "      <th>ampm</th>\n",
              "      <th>date</th>\n",
              "    </tr>\n",
              "  </thead>\n",
              "  <tbody>\n",
              "    <tr>\n",
              "      <th>5320</th>\n",
              "      <td>Dr.</td>\n",
              "      <td>Bruce</td>\n",
              "      <td>Bryan</td>\n",
              "      <td>ru@pubuspuh.cl</td>\n",
              "      <td>Male</td>\n",
              "      <td>59</td>\n",
              "      <td>Wal-Mart Stores Inc</td>\n",
              "      <td>Engineer Technician</td>\n",
              "      <td>(709) 446-8317</td>\n",
              "      <td>H6H 3Y0</td>\n",
              "      <td>NU</td>\n",
              "      <td>201000000000000</td>\n",
              "      <td>04/2024</td>\n",
              "      <td>Bankcard</td>\n",
              "      <td>0.0</td>\n",
              "      <td>White</td>\n",
              "      <td>82.70.62.64</td>\n",
              "      <td>Wednesday</td>\n",
              "      <td>am</td>\n",
              "      <td>12/11/1900</td>\n",
              "    </tr>\n",
              "    <tr>\n",
              "      <th>10597</th>\n",
              "      <td>Mrs.</td>\n",
              "      <td>Flora</td>\n",
              "      <td>Clark</td>\n",
              "      <td>wad@me.com</td>\n",
              "      <td>Female</td>\n",
              "      <td>27</td>\n",
              "      <td>MetLife Inc.</td>\n",
              "      <td>Cruise Director</td>\n",
              "      <td>(775) 373-6590</td>\n",
              "      <td>B2U 8K6</td>\n",
              "      <td>NB</td>\n",
              "      <td>30100000000000</td>\n",
              "      <td>05/2020</td>\n",
              "      <td>Diners Club Carte Blanche</td>\n",
              "      <td>0.0</td>\n",
              "      <td>Red</td>\n",
              "      <td>231.156.15.63</td>\n",
              "      <td>Thursday</td>\n",
              "      <td>pm</td>\n",
              "      <td>08/22/1904</td>\n",
              "    </tr>\n",
              "  </tbody>\n",
              "</table>\n",
              "</div>\n",
              "    <div class=\"colab-df-buttons\">\n",
              "\n",
              "  <div class=\"colab-df-container\">\n",
              "    <button class=\"colab-df-convert\" onclick=\"convertToInteractive('df-7ea46709-0ecd-4078-ac13-ed4d69f63d54')\"\n",
              "            title=\"Convert this dataframe to an interactive table.\"\n",
              "            style=\"display:none;\">\n",
              "\n",
              "  <svg xmlns=\"http://www.w3.org/2000/svg\" height=\"24px\" viewBox=\"0 -960 960 960\">\n",
              "    <path d=\"M120-120v-720h720v720H120Zm60-500h600v-160H180v160Zm220 220h160v-160H400v160Zm0 220h160v-160H400v160ZM180-400h160v-160H180v160Zm440 0h160v-160H620v160ZM180-180h160v-160H180v160Zm440 0h160v-160H620v160Z\"/>\n",
              "  </svg>\n",
              "    </button>\n",
              "\n",
              "  <style>\n",
              "    .colab-df-container {\n",
              "      display:flex;\n",
              "      gap: 12px;\n",
              "    }\n",
              "\n",
              "    .colab-df-convert {\n",
              "      background-color: #E8F0FE;\n",
              "      border: none;\n",
              "      border-radius: 50%;\n",
              "      cursor: pointer;\n",
              "      display: none;\n",
              "      fill: #1967D2;\n",
              "      height: 32px;\n",
              "      padding: 0 0 0 0;\n",
              "      width: 32px;\n",
              "    }\n",
              "\n",
              "    .colab-df-convert:hover {\n",
              "      background-color: #E2EBFA;\n",
              "      box-shadow: 0px 1px 2px rgba(60, 64, 67, 0.3), 0px 1px 3px 1px rgba(60, 64, 67, 0.15);\n",
              "      fill: #174EA6;\n",
              "    }\n",
              "\n",
              "    .colab-df-buttons div {\n",
              "      margin-bottom: 4px;\n",
              "    }\n",
              "\n",
              "    [theme=dark] .colab-df-convert {\n",
              "      background-color: #3B4455;\n",
              "      fill: #D2E3FC;\n",
              "    }\n",
              "\n",
              "    [theme=dark] .colab-df-convert:hover {\n",
              "      background-color: #434B5C;\n",
              "      box-shadow: 0px 1px 3px 1px rgba(0, 0, 0, 0.15);\n",
              "      filter: drop-shadow(0px 1px 2px rgba(0, 0, 0, 0.3));\n",
              "      fill: #FFFFFF;\n",
              "    }\n",
              "  </style>\n",
              "\n",
              "    <script>\n",
              "      const buttonEl =\n",
              "        document.querySelector('#df-7ea46709-0ecd-4078-ac13-ed4d69f63d54 button.colab-df-convert');\n",
              "      buttonEl.style.display =\n",
              "        google.colab.kernel.accessAllowed ? 'block' : 'none';\n",
              "\n",
              "      async function convertToInteractive(key) {\n",
              "        const element = document.querySelector('#df-7ea46709-0ecd-4078-ac13-ed4d69f63d54');\n",
              "        const dataTable =\n",
              "          await google.colab.kernel.invokeFunction('convertToInteractive',\n",
              "                                                    [key], {});\n",
              "        if (!dataTable) return;\n",
              "\n",
              "        const docLinkHtml = 'Like what you see? Visit the ' +\n",
              "          '<a target=\"_blank\" href=https://colab.research.google.com/notebooks/data_table.ipynb>data table notebook</a>'\n",
              "          + ' to learn more about interactive tables.';\n",
              "        element.innerHTML = '';\n",
              "        dataTable['output_type'] = 'display_data';\n",
              "        await google.colab.output.renderOutput(dataTable, element);\n",
              "        const docLink = document.createElement('div');\n",
              "        docLink.innerHTML = docLinkHtml;\n",
              "        element.appendChild(docLink);\n",
              "      }\n",
              "    </script>\n",
              "  </div>\n",
              "\n",
              "\n",
              "    <div id=\"df-9d38c443-c707-420b-b0cd-ea63b36cd166\">\n",
              "      <button class=\"colab-df-quickchart\" onclick=\"quickchart('df-9d38c443-c707-420b-b0cd-ea63b36cd166')\"\n",
              "                title=\"Suggest charts\"\n",
              "                style=\"display:none;\">\n",
              "\n",
              "<svg xmlns=\"http://www.w3.org/2000/svg\" height=\"24px\"viewBox=\"0 0 24 24\"\n",
              "     width=\"24px\">\n",
              "    <g>\n",
              "        <path d=\"M19 3H5c-1.1 0-2 .9-2 2v14c0 1.1.9 2 2 2h14c1.1 0 2-.9 2-2V5c0-1.1-.9-2-2-2zM9 17H7v-7h2v7zm4 0h-2V7h2v10zm4 0h-2v-4h2v4z\"/>\n",
              "    </g>\n",
              "</svg>\n",
              "      </button>\n",
              "\n",
              "<style>\n",
              "  .colab-df-quickchart {\n",
              "      --bg-color: #E8F0FE;\n",
              "      --fill-color: #1967D2;\n",
              "      --hover-bg-color: #E2EBFA;\n",
              "      --hover-fill-color: #174EA6;\n",
              "      --disabled-fill-color: #AAA;\n",
              "      --disabled-bg-color: #DDD;\n",
              "  }\n",
              "\n",
              "  [theme=dark] .colab-df-quickchart {\n",
              "      --bg-color: #3B4455;\n",
              "      --fill-color: #D2E3FC;\n",
              "      --hover-bg-color: #434B5C;\n",
              "      --hover-fill-color: #FFFFFF;\n",
              "      --disabled-bg-color: #3B4455;\n",
              "      --disabled-fill-color: #666;\n",
              "  }\n",
              "\n",
              "  .colab-df-quickchart {\n",
              "    background-color: var(--bg-color);\n",
              "    border: none;\n",
              "    border-radius: 50%;\n",
              "    cursor: pointer;\n",
              "    display: none;\n",
              "    fill: var(--fill-color);\n",
              "    height: 32px;\n",
              "    padding: 0;\n",
              "    width: 32px;\n",
              "  }\n",
              "\n",
              "  .colab-df-quickchart:hover {\n",
              "    background-color: var(--hover-bg-color);\n",
              "    box-shadow: 0 1px 2px rgba(60, 64, 67, 0.3), 0 1px 3px 1px rgba(60, 64, 67, 0.15);\n",
              "    fill: var(--button-hover-fill-color);\n",
              "  }\n",
              "\n",
              "  .colab-df-quickchart-complete:disabled,\n",
              "  .colab-df-quickchart-complete:disabled:hover {\n",
              "    background-color: var(--disabled-bg-color);\n",
              "    fill: var(--disabled-fill-color);\n",
              "    box-shadow: none;\n",
              "  }\n",
              "\n",
              "  .colab-df-spinner {\n",
              "    border: 2px solid var(--fill-color);\n",
              "    border-color: transparent;\n",
              "    border-bottom-color: var(--fill-color);\n",
              "    animation:\n",
              "      spin 1s steps(1) infinite;\n",
              "  }\n",
              "\n",
              "  @keyframes spin {\n",
              "    0% {\n",
              "      border-color: transparent;\n",
              "      border-bottom-color: var(--fill-color);\n",
              "      border-left-color: var(--fill-color);\n",
              "    }\n",
              "    20% {\n",
              "      border-color: transparent;\n",
              "      border-left-color: var(--fill-color);\n",
              "      border-top-color: var(--fill-color);\n",
              "    }\n",
              "    30% {\n",
              "      border-color: transparent;\n",
              "      border-left-color: var(--fill-color);\n",
              "      border-top-color: var(--fill-color);\n",
              "      border-right-color: var(--fill-color);\n",
              "    }\n",
              "    40% {\n",
              "      border-color: transparent;\n",
              "      border-right-color: var(--fill-color);\n",
              "      border-top-color: var(--fill-color);\n",
              "    }\n",
              "    60% {\n",
              "      border-color: transparent;\n",
              "      border-right-color: var(--fill-color);\n",
              "    }\n",
              "    80% {\n",
              "      border-color: transparent;\n",
              "      border-right-color: var(--fill-color);\n",
              "      border-bottom-color: var(--fill-color);\n",
              "    }\n",
              "    90% {\n",
              "      border-color: transparent;\n",
              "      border-bottom-color: var(--fill-color);\n",
              "    }\n",
              "  }\n",
              "</style>\n",
              "\n",
              "      <script>\n",
              "        async function quickchart(key) {\n",
              "          const quickchartButtonEl =\n",
              "            document.querySelector('#' + key + ' button');\n",
              "          quickchartButtonEl.disabled = true;  // To prevent multiple clicks.\n",
              "          quickchartButtonEl.classList.add('colab-df-spinner');\n",
              "          try {\n",
              "            const charts = await google.colab.kernel.invokeFunction(\n",
              "                'suggestCharts', [key], {});\n",
              "          } catch (error) {\n",
              "            console.error('Error during call to suggestCharts:', error);\n",
              "          }\n",
              "          quickchartButtonEl.classList.remove('colab-df-spinner');\n",
              "          quickchartButtonEl.classList.add('colab-df-quickchart-complete');\n",
              "        }\n",
              "        (() => {\n",
              "          let quickchartButtonEl =\n",
              "            document.querySelector('#df-9d38c443-c707-420b-b0cd-ea63b36cd166 button');\n",
              "          quickchartButtonEl.style.display =\n",
              "            google.colab.kernel.accessAllowed ? 'block' : 'none';\n",
              "        })();\n",
              "      </script>\n",
              "    </div>\n",
              "\n",
              "    </div>\n",
              "  </div>\n"
            ],
            "application/vnd.google.colaboratory.intrinsic+json": {
              "type": "dataframe",
              "repr_error": "0"
            }
          },
          "metadata": {},
          "execution_count": 17
        }
      ]
    },
    {
      "cell_type": "markdown",
      "source": [
        "Question no. 10: As a loyalty reward, company wants to send thanks coupon to those who spent 100CAD or more, please find out the customers?"
      ],
      "metadata": {
        "id": "Qrsju_BXZqRT"
      }
    },
    {
      "cell_type": "code",
      "source": [
        "cust[cust['price(CAD)'] >= 100.0]"
      ],
      "metadata": {
        "colab": {
          "base_uri": "https://localhost:8080/",
          "height": 268
        },
        "id": "bicw7hXOZxBh",
        "outputId": "671e6549-2f87-4654-9a09-472a0919e070"
      },
      "execution_count": 18,
      "outputs": [
        {
          "output_type": "execute_result",
          "data": {
            "text/plain": [
              "      prefix    first         last          email  gender  age  \\\n",
              "76      Mrs.  Gregory        Brown     hav@jek.gs  Female   31   \n",
              "21093   Mrs.     Cody  Christensen    get@jovu.ag    Male   28   \n",
              "24385   Miss   Lizzie        Dixon  goh@tuwjaz.gd  Female   38   \n",
              "\n",
              "                         company              profession           phone  \\\n",
              "76           E*Trade Group, Inc.                Novelist  (625) 537-8923   \n",
              "21093        National City Corp.  Hospital Administrator  (261) 737-3292   \n",
              "24385  FleetBoston Financial Co.    Compensation Analyst  (989) 239-1752   \n",
              "\n",
              "        postal province             cc_no   cc_exp   cc_type  price(CAD)  \\\n",
              "76     X3S 4Q2       PE  6010000000000000  04/2018      Visa       100.0   \n",
              "21093  X0S 1O5       PE   201000000000000  03/2024       JCB       100.0   \n",
              "24385  V8X 9V6       NB  6300000000000000  07/2019  Bankcard       100.0   \n",
              "\n",
              "      fav_color             ip    weekday ampm        date  \n",
              "76        Green  212.100.18.95     Monday   am  10/23/2063  \n",
              "21093     Green  168.48.19.165  Wednesday   pm  03/28/1955  \n",
              "24385      Blue   140.87.99.78   Saturday   pm  03/03/1983  "
            ],
            "text/html": [
              "\n",
              "  <div id=\"df-943927cb-308a-49fb-93b1-e8ad980e970d\" class=\"colab-df-container\">\n",
              "    <div>\n",
              "<style scoped>\n",
              "    .dataframe tbody tr th:only-of-type {\n",
              "        vertical-align: middle;\n",
              "    }\n",
              "\n",
              "    .dataframe tbody tr th {\n",
              "        vertical-align: top;\n",
              "    }\n",
              "\n",
              "    .dataframe thead th {\n",
              "        text-align: right;\n",
              "    }\n",
              "</style>\n",
              "<table border=\"1\" class=\"dataframe\">\n",
              "  <thead>\n",
              "    <tr style=\"text-align: right;\">\n",
              "      <th></th>\n",
              "      <th>prefix</th>\n",
              "      <th>first</th>\n",
              "      <th>last</th>\n",
              "      <th>email</th>\n",
              "      <th>gender</th>\n",
              "      <th>age</th>\n",
              "      <th>company</th>\n",
              "      <th>profession</th>\n",
              "      <th>phone</th>\n",
              "      <th>postal</th>\n",
              "      <th>province</th>\n",
              "      <th>cc_no</th>\n",
              "      <th>cc_exp</th>\n",
              "      <th>cc_type</th>\n",
              "      <th>price(CAD)</th>\n",
              "      <th>fav_color</th>\n",
              "      <th>ip</th>\n",
              "      <th>weekday</th>\n",
              "      <th>ampm</th>\n",
              "      <th>date</th>\n",
              "    </tr>\n",
              "  </thead>\n",
              "  <tbody>\n",
              "    <tr>\n",
              "      <th>76</th>\n",
              "      <td>Mrs.</td>\n",
              "      <td>Gregory</td>\n",
              "      <td>Brown</td>\n",
              "      <td>hav@jek.gs</td>\n",
              "      <td>Female</td>\n",
              "      <td>31</td>\n",
              "      <td>E*Trade Group, Inc.</td>\n",
              "      <td>Novelist</td>\n",
              "      <td>(625) 537-8923</td>\n",
              "      <td>X3S 4Q2</td>\n",
              "      <td>PE</td>\n",
              "      <td>6010000000000000</td>\n",
              "      <td>04/2018</td>\n",
              "      <td>Visa</td>\n",
              "      <td>100.0</td>\n",
              "      <td>Green</td>\n",
              "      <td>212.100.18.95</td>\n",
              "      <td>Monday</td>\n",
              "      <td>am</td>\n",
              "      <td>10/23/2063</td>\n",
              "    </tr>\n",
              "    <tr>\n",
              "      <th>21093</th>\n",
              "      <td>Mrs.</td>\n",
              "      <td>Cody</td>\n",
              "      <td>Christensen</td>\n",
              "      <td>get@jovu.ag</td>\n",
              "      <td>Male</td>\n",
              "      <td>28</td>\n",
              "      <td>National City Corp.</td>\n",
              "      <td>Hospital Administrator</td>\n",
              "      <td>(261) 737-3292</td>\n",
              "      <td>X0S 1O5</td>\n",
              "      <td>PE</td>\n",
              "      <td>201000000000000</td>\n",
              "      <td>03/2024</td>\n",
              "      <td>JCB</td>\n",
              "      <td>100.0</td>\n",
              "      <td>Green</td>\n",
              "      <td>168.48.19.165</td>\n",
              "      <td>Wednesday</td>\n",
              "      <td>pm</td>\n",
              "      <td>03/28/1955</td>\n",
              "    </tr>\n",
              "    <tr>\n",
              "      <th>24385</th>\n",
              "      <td>Miss</td>\n",
              "      <td>Lizzie</td>\n",
              "      <td>Dixon</td>\n",
              "      <td>goh@tuwjaz.gd</td>\n",
              "      <td>Female</td>\n",
              "      <td>38</td>\n",
              "      <td>FleetBoston Financial Co.</td>\n",
              "      <td>Compensation Analyst</td>\n",
              "      <td>(989) 239-1752</td>\n",
              "      <td>V8X 9V6</td>\n",
              "      <td>NB</td>\n",
              "      <td>6300000000000000</td>\n",
              "      <td>07/2019</td>\n",
              "      <td>Bankcard</td>\n",
              "      <td>100.0</td>\n",
              "      <td>Blue</td>\n",
              "      <td>140.87.99.78</td>\n",
              "      <td>Saturday</td>\n",
              "      <td>pm</td>\n",
              "      <td>03/03/1983</td>\n",
              "    </tr>\n",
              "  </tbody>\n",
              "</table>\n",
              "</div>\n",
              "    <div class=\"colab-df-buttons\">\n",
              "\n",
              "  <div class=\"colab-df-container\">\n",
              "    <button class=\"colab-df-convert\" onclick=\"convertToInteractive('df-943927cb-308a-49fb-93b1-e8ad980e970d')\"\n",
              "            title=\"Convert this dataframe to an interactive table.\"\n",
              "            style=\"display:none;\">\n",
              "\n",
              "  <svg xmlns=\"http://www.w3.org/2000/svg\" height=\"24px\" viewBox=\"0 -960 960 960\">\n",
              "    <path d=\"M120-120v-720h720v720H120Zm60-500h600v-160H180v160Zm220 220h160v-160H400v160Zm0 220h160v-160H400v160ZM180-400h160v-160H180v160Zm440 0h160v-160H620v160ZM180-180h160v-160H180v160Zm440 0h160v-160H620v160Z\"/>\n",
              "  </svg>\n",
              "    </button>\n",
              "\n",
              "  <style>\n",
              "    .colab-df-container {\n",
              "      display:flex;\n",
              "      gap: 12px;\n",
              "    }\n",
              "\n",
              "    .colab-df-convert {\n",
              "      background-color: #E8F0FE;\n",
              "      border: none;\n",
              "      border-radius: 50%;\n",
              "      cursor: pointer;\n",
              "      display: none;\n",
              "      fill: #1967D2;\n",
              "      height: 32px;\n",
              "      padding: 0 0 0 0;\n",
              "      width: 32px;\n",
              "    }\n",
              "\n",
              "    .colab-df-convert:hover {\n",
              "      background-color: #E2EBFA;\n",
              "      box-shadow: 0px 1px 2px rgba(60, 64, 67, 0.3), 0px 1px 3px 1px rgba(60, 64, 67, 0.15);\n",
              "      fill: #174EA6;\n",
              "    }\n",
              "\n",
              "    .colab-df-buttons div {\n",
              "      margin-bottom: 4px;\n",
              "    }\n",
              "\n",
              "    [theme=dark] .colab-df-convert {\n",
              "      background-color: #3B4455;\n",
              "      fill: #D2E3FC;\n",
              "    }\n",
              "\n",
              "    [theme=dark] .colab-df-convert:hover {\n",
              "      background-color: #434B5C;\n",
              "      box-shadow: 0px 1px 3px 1px rgba(0, 0, 0, 0.15);\n",
              "      filter: drop-shadow(0px 1px 2px rgba(0, 0, 0, 0.3));\n",
              "      fill: #FFFFFF;\n",
              "    }\n",
              "  </style>\n",
              "\n",
              "    <script>\n",
              "      const buttonEl =\n",
              "        document.querySelector('#df-943927cb-308a-49fb-93b1-e8ad980e970d button.colab-df-convert');\n",
              "      buttonEl.style.display =\n",
              "        google.colab.kernel.accessAllowed ? 'block' : 'none';\n",
              "\n",
              "      async function convertToInteractive(key) {\n",
              "        const element = document.querySelector('#df-943927cb-308a-49fb-93b1-e8ad980e970d');\n",
              "        const dataTable =\n",
              "          await google.colab.kernel.invokeFunction('convertToInteractive',\n",
              "                                                    [key], {});\n",
              "        if (!dataTable) return;\n",
              "\n",
              "        const docLinkHtml = 'Like what you see? Visit the ' +\n",
              "          '<a target=\"_blank\" href=https://colab.research.google.com/notebooks/data_table.ipynb>data table notebook</a>'\n",
              "          + ' to learn more about interactive tables.';\n",
              "        element.innerHTML = '';\n",
              "        dataTable['output_type'] = 'display_data';\n",
              "        await google.colab.output.renderOutput(dataTable, element);\n",
              "        const docLink = document.createElement('div');\n",
              "        docLink.innerHTML = docLinkHtml;\n",
              "        element.appendChild(docLink);\n",
              "      }\n",
              "    </script>\n",
              "  </div>\n",
              "\n",
              "\n",
              "    <div id=\"df-d96c9a0d-38df-48cb-bc62-9402cebc8e0c\">\n",
              "      <button class=\"colab-df-quickchart\" onclick=\"quickchart('df-d96c9a0d-38df-48cb-bc62-9402cebc8e0c')\"\n",
              "                title=\"Suggest charts\"\n",
              "                style=\"display:none;\">\n",
              "\n",
              "<svg xmlns=\"http://www.w3.org/2000/svg\" height=\"24px\"viewBox=\"0 0 24 24\"\n",
              "     width=\"24px\">\n",
              "    <g>\n",
              "        <path d=\"M19 3H5c-1.1 0-2 .9-2 2v14c0 1.1.9 2 2 2h14c1.1 0 2-.9 2-2V5c0-1.1-.9-2-2-2zM9 17H7v-7h2v7zm4 0h-2V7h2v10zm4 0h-2v-4h2v4z\"/>\n",
              "    </g>\n",
              "</svg>\n",
              "      </button>\n",
              "\n",
              "<style>\n",
              "  .colab-df-quickchart {\n",
              "      --bg-color: #E8F0FE;\n",
              "      --fill-color: #1967D2;\n",
              "      --hover-bg-color: #E2EBFA;\n",
              "      --hover-fill-color: #174EA6;\n",
              "      --disabled-fill-color: #AAA;\n",
              "      --disabled-bg-color: #DDD;\n",
              "  }\n",
              "\n",
              "  [theme=dark] .colab-df-quickchart {\n",
              "      --bg-color: #3B4455;\n",
              "      --fill-color: #D2E3FC;\n",
              "      --hover-bg-color: #434B5C;\n",
              "      --hover-fill-color: #FFFFFF;\n",
              "      --disabled-bg-color: #3B4455;\n",
              "      --disabled-fill-color: #666;\n",
              "  }\n",
              "\n",
              "  .colab-df-quickchart {\n",
              "    background-color: var(--bg-color);\n",
              "    border: none;\n",
              "    border-radius: 50%;\n",
              "    cursor: pointer;\n",
              "    display: none;\n",
              "    fill: var(--fill-color);\n",
              "    height: 32px;\n",
              "    padding: 0;\n",
              "    width: 32px;\n",
              "  }\n",
              "\n",
              "  .colab-df-quickchart:hover {\n",
              "    background-color: var(--hover-bg-color);\n",
              "    box-shadow: 0 1px 2px rgba(60, 64, 67, 0.3), 0 1px 3px 1px rgba(60, 64, 67, 0.15);\n",
              "    fill: var(--button-hover-fill-color);\n",
              "  }\n",
              "\n",
              "  .colab-df-quickchart-complete:disabled,\n",
              "  .colab-df-quickchart-complete:disabled:hover {\n",
              "    background-color: var(--disabled-bg-color);\n",
              "    fill: var(--disabled-fill-color);\n",
              "    box-shadow: none;\n",
              "  }\n",
              "\n",
              "  .colab-df-spinner {\n",
              "    border: 2px solid var(--fill-color);\n",
              "    border-color: transparent;\n",
              "    border-bottom-color: var(--fill-color);\n",
              "    animation:\n",
              "      spin 1s steps(1) infinite;\n",
              "  }\n",
              "\n",
              "  @keyframes spin {\n",
              "    0% {\n",
              "      border-color: transparent;\n",
              "      border-bottom-color: var(--fill-color);\n",
              "      border-left-color: var(--fill-color);\n",
              "    }\n",
              "    20% {\n",
              "      border-color: transparent;\n",
              "      border-left-color: var(--fill-color);\n",
              "      border-top-color: var(--fill-color);\n",
              "    }\n",
              "    30% {\n",
              "      border-color: transparent;\n",
              "      border-left-color: var(--fill-color);\n",
              "      border-top-color: var(--fill-color);\n",
              "      border-right-color: var(--fill-color);\n",
              "    }\n",
              "    40% {\n",
              "      border-color: transparent;\n",
              "      border-right-color: var(--fill-color);\n",
              "      border-top-color: var(--fill-color);\n",
              "    }\n",
              "    60% {\n",
              "      border-color: transparent;\n",
              "      border-right-color: var(--fill-color);\n",
              "    }\n",
              "    80% {\n",
              "      border-color: transparent;\n",
              "      border-right-color: var(--fill-color);\n",
              "      border-bottom-color: var(--fill-color);\n",
              "    }\n",
              "    90% {\n",
              "      border-color: transparent;\n",
              "      border-bottom-color: var(--fill-color);\n",
              "    }\n",
              "  }\n",
              "</style>\n",
              "\n",
              "      <script>\n",
              "        async function quickchart(key) {\n",
              "          const quickchartButtonEl =\n",
              "            document.querySelector('#' + key + ' button');\n",
              "          quickchartButtonEl.disabled = true;  // To prevent multiple clicks.\n",
              "          quickchartButtonEl.classList.add('colab-df-spinner');\n",
              "          try {\n",
              "            const charts = await google.colab.kernel.invokeFunction(\n",
              "                'suggestCharts', [key], {});\n",
              "          } catch (error) {\n",
              "            console.error('Error during call to suggestCharts:', error);\n",
              "          }\n",
              "          quickchartButtonEl.classList.remove('colab-df-spinner');\n",
              "          quickchartButtonEl.classList.add('colab-df-quickchart-complete');\n",
              "        }\n",
              "        (() => {\n",
              "          let quickchartButtonEl =\n",
              "            document.querySelector('#df-d96c9a0d-38df-48cb-bc62-9402cebc8e0c button');\n",
              "          quickchartButtonEl.style.display =\n",
              "            google.colab.kernel.accessAllowed ? 'block' : 'none';\n",
              "        })();\n",
              "      </script>\n",
              "    </div>\n",
              "\n",
              "    </div>\n",
              "  </div>\n"
            ],
            "application/vnd.google.colaboratory.intrinsic+json": {
              "type": "dataframe",
              "repr_error": "0"
            }
          },
          "metadata": {},
          "execution_count": 18
        }
      ]
    },
    {
      "cell_type": "markdown",
      "source": [
        "Question no. 11: How many emails are associated with this credit card number '5020000000000230'?"
      ],
      "metadata": {
        "id": "LAnpnavuaDKp"
      }
    },
    {
      "cell_type": "code",
      "source": [
        "cust[cust['cc_no'] == 5020000000000230]['email'].count()"
      ],
      "metadata": {
        "colab": {
          "base_uri": "https://localhost:8080/"
        },
        "id": "sERKiq0haKtp",
        "outputId": "7ac89be3-4c0c-4742-af28-39e68137dbf4"
      },
      "execution_count": 22,
      "outputs": [
        {
          "output_type": "execute_result",
          "data": {
            "text/plain": [
              "np.int64(2)"
            ]
          },
          "metadata": {},
          "execution_count": 22
        }
      ]
    },
    {
      "cell_type": "markdown",
      "source": [
        "Question no. 12: We need to send new cards to the customers well before the expire, how many cards are expiring in 2019?"
      ],
      "metadata": {
        "id": "n7FhDDzqapIJ"
      }
    },
    {
      "cell_type": "code",
      "source": [
        "# hear apply user defined function.\n",
        "def find(x):\n",
        "    if x[5:] == '19':\n",
        "        return 1\n",
        "    else:\n",
        "        return 0"
      ],
      "metadata": {
        "id": "g_QmX_7Xa0hg"
      },
      "execution_count": 23,
      "outputs": []
    },
    {
      "cell_type": "code",
      "source": [
        "# way #1 using sum function\n",
        "cust['cc_exp'].apply(find).sum()"
      ],
      "metadata": {
        "colab": {
          "base_uri": "https://localhost:8080/"
        },
        "id": "XFqCcZdnbDmA",
        "outputId": "58453be9-b481-442e-e394-e31972a94d38"
      },
      "execution_count": 26,
      "outputs": [
        {
          "output_type": "execute_result",
          "data": {
            "text/plain": [
              "np.int64(2684)"
            ]
          },
          "metadata": {},
          "execution_count": 26
        }
      ]
    },
    {
      "cell_type": "code",
      "source": [
        "# way #2 using lamda function\n",
        "sum(cust['cc_exp'].apply(lambda x: x[5:]) == '19')"
      ],
      "metadata": {
        "colab": {
          "base_uri": "https://localhost:8080/"
        },
        "id": "yA76_9s6bqLo",
        "outputId": "bcf03e81-35a8-40fc-f9f1-5db86a166411"
      },
      "execution_count": 25,
      "outputs": [
        {
          "output_type": "execute_result",
          "data": {
            "text/plain": [
              "2684"
            ]
          },
          "metadata": {},
          "execution_count": 25
        }
      ]
    },
    {
      "cell_type": "markdown",
      "source": [
        "Question no. 13: How many people use Visa as their Credit Card Provider?"
      ],
      "metadata": {
        "id": "Trxcb_UucEKI"
      }
    },
    {
      "cell_type": "code",
      "source": [
        "cust[cust['cc_type'] == 'Visa']['prefix'].count()"
      ],
      "metadata": {
        "colab": {
          "base_uri": "https://localhost:8080/"
        },
        "id": "JeIyz9LGcLjA",
        "outputId": "3ed7481a-1260-4d63-cdb3-48ffba473949"
      },
      "execution_count": 27,
      "outputs": [
        {
          "output_type": "execute_result",
          "data": {
            "text/plain": [
              "np.int64(1721)"
            ]
          },
          "metadata": {},
          "execution_count": 27
        }
      ]
    },
    {
      "cell_type": "markdown",
      "source": [
        "Question no. 14: Can you find the customer who spent 100 CAD using Visa?"
      ],
      "metadata": {
        "id": "Fk0zPD3kcmqQ"
      }
    },
    {
      "cell_type": "code",
      "source": [
        "cust[(cust['cc_type'] == 'Visa') & (cust['price(CAD)'] == 100.0)]"
      ],
      "metadata": {
        "colab": {
          "base_uri": "https://localhost:8080/",
          "height": 135
        },
        "id": "fbKYaoxrct5I",
        "outputId": "98bd93bb-0bb9-41e8-e9e5-2ff3086bb8d6"
      },
      "execution_count": 28,
      "outputs": [
        {
          "output_type": "execute_result",
          "data": {
            "text/plain": [
              "   prefix    first   last       email  gender  age              company  \\\n",
              "76   Mrs.  Gregory  Brown  hav@jek.gs  Female   31  E*Trade Group, Inc.   \n",
              "\n",
              "   profession           phone   postal province             cc_no   cc_exp  \\\n",
              "76   Novelist  (625) 537-8923  X3S 4Q2       PE  6010000000000000  04/2018   \n",
              "\n",
              "   cc_type  price(CAD) fav_color             ip weekday ampm        date  \n",
              "76    Visa       100.0     Green  212.100.18.95  Monday   am  10/23/2063  "
            ],
            "text/html": [
              "\n",
              "  <div id=\"df-dee4c1b5-fdb9-4073-adb7-b1e32b34ae55\" class=\"colab-df-container\">\n",
              "    <div>\n",
              "<style scoped>\n",
              "    .dataframe tbody tr th:only-of-type {\n",
              "        vertical-align: middle;\n",
              "    }\n",
              "\n",
              "    .dataframe tbody tr th {\n",
              "        vertical-align: top;\n",
              "    }\n",
              "\n",
              "    .dataframe thead th {\n",
              "        text-align: right;\n",
              "    }\n",
              "</style>\n",
              "<table border=\"1\" class=\"dataframe\">\n",
              "  <thead>\n",
              "    <tr style=\"text-align: right;\">\n",
              "      <th></th>\n",
              "      <th>prefix</th>\n",
              "      <th>first</th>\n",
              "      <th>last</th>\n",
              "      <th>email</th>\n",
              "      <th>gender</th>\n",
              "      <th>age</th>\n",
              "      <th>company</th>\n",
              "      <th>profession</th>\n",
              "      <th>phone</th>\n",
              "      <th>postal</th>\n",
              "      <th>province</th>\n",
              "      <th>cc_no</th>\n",
              "      <th>cc_exp</th>\n",
              "      <th>cc_type</th>\n",
              "      <th>price(CAD)</th>\n",
              "      <th>fav_color</th>\n",
              "      <th>ip</th>\n",
              "      <th>weekday</th>\n",
              "      <th>ampm</th>\n",
              "      <th>date</th>\n",
              "    </tr>\n",
              "  </thead>\n",
              "  <tbody>\n",
              "    <tr>\n",
              "      <th>76</th>\n",
              "      <td>Mrs.</td>\n",
              "      <td>Gregory</td>\n",
              "      <td>Brown</td>\n",
              "      <td>hav@jek.gs</td>\n",
              "      <td>Female</td>\n",
              "      <td>31</td>\n",
              "      <td>E*Trade Group, Inc.</td>\n",
              "      <td>Novelist</td>\n",
              "      <td>(625) 537-8923</td>\n",
              "      <td>X3S 4Q2</td>\n",
              "      <td>PE</td>\n",
              "      <td>6010000000000000</td>\n",
              "      <td>04/2018</td>\n",
              "      <td>Visa</td>\n",
              "      <td>100.0</td>\n",
              "      <td>Green</td>\n",
              "      <td>212.100.18.95</td>\n",
              "      <td>Monday</td>\n",
              "      <td>am</td>\n",
              "      <td>10/23/2063</td>\n",
              "    </tr>\n",
              "  </tbody>\n",
              "</table>\n",
              "</div>\n",
              "    <div class=\"colab-df-buttons\">\n",
              "\n",
              "  <div class=\"colab-df-container\">\n",
              "    <button class=\"colab-df-convert\" onclick=\"convertToInteractive('df-dee4c1b5-fdb9-4073-adb7-b1e32b34ae55')\"\n",
              "            title=\"Convert this dataframe to an interactive table.\"\n",
              "            style=\"display:none;\">\n",
              "\n",
              "  <svg xmlns=\"http://www.w3.org/2000/svg\" height=\"24px\" viewBox=\"0 -960 960 960\">\n",
              "    <path d=\"M120-120v-720h720v720H120Zm60-500h600v-160H180v160Zm220 220h160v-160H400v160Zm0 220h160v-160H400v160ZM180-400h160v-160H180v160Zm440 0h160v-160H620v160ZM180-180h160v-160H180v160Zm440 0h160v-160H620v160Z\"/>\n",
              "  </svg>\n",
              "    </button>\n",
              "\n",
              "  <style>\n",
              "    .colab-df-container {\n",
              "      display:flex;\n",
              "      gap: 12px;\n",
              "    }\n",
              "\n",
              "    .colab-df-convert {\n",
              "      background-color: #E8F0FE;\n",
              "      border: none;\n",
              "      border-radius: 50%;\n",
              "      cursor: pointer;\n",
              "      display: none;\n",
              "      fill: #1967D2;\n",
              "      height: 32px;\n",
              "      padding: 0 0 0 0;\n",
              "      width: 32px;\n",
              "    }\n",
              "\n",
              "    .colab-df-convert:hover {\n",
              "      background-color: #E2EBFA;\n",
              "      box-shadow: 0px 1px 2px rgba(60, 64, 67, 0.3), 0px 1px 3px 1px rgba(60, 64, 67, 0.15);\n",
              "      fill: #174EA6;\n",
              "    }\n",
              "\n",
              "    .colab-df-buttons div {\n",
              "      margin-bottom: 4px;\n",
              "    }\n",
              "\n",
              "    [theme=dark] .colab-df-convert {\n",
              "      background-color: #3B4455;\n",
              "      fill: #D2E3FC;\n",
              "    }\n",
              "\n",
              "    [theme=dark] .colab-df-convert:hover {\n",
              "      background-color: #434B5C;\n",
              "      box-shadow: 0px 1px 3px 1px rgba(0, 0, 0, 0.15);\n",
              "      filter: drop-shadow(0px 1px 2px rgba(0, 0, 0, 0.3));\n",
              "      fill: #FFFFFF;\n",
              "    }\n",
              "  </style>\n",
              "\n",
              "    <script>\n",
              "      const buttonEl =\n",
              "        document.querySelector('#df-dee4c1b5-fdb9-4073-adb7-b1e32b34ae55 button.colab-df-convert');\n",
              "      buttonEl.style.display =\n",
              "        google.colab.kernel.accessAllowed ? 'block' : 'none';\n",
              "\n",
              "      async function convertToInteractive(key) {\n",
              "        const element = document.querySelector('#df-dee4c1b5-fdb9-4073-adb7-b1e32b34ae55');\n",
              "        const dataTable =\n",
              "          await google.colab.kernel.invokeFunction('convertToInteractive',\n",
              "                                                    [key], {});\n",
              "        if (!dataTable) return;\n",
              "\n",
              "        const docLinkHtml = 'Like what you see? Visit the ' +\n",
              "          '<a target=\"_blank\" href=https://colab.research.google.com/notebooks/data_table.ipynb>data table notebook</a>'\n",
              "          + ' to learn more about interactive tables.';\n",
              "        element.innerHTML = '';\n",
              "        dataTable['output_type'] = 'display_data';\n",
              "        await google.colab.output.renderOutput(dataTable, element);\n",
              "        const docLink = document.createElement('div');\n",
              "        docLink.innerHTML = docLinkHtml;\n",
              "        element.appendChild(docLink);\n",
              "      }\n",
              "    </script>\n",
              "  </div>\n",
              "\n",
              "\n",
              "    </div>\n",
              "  </div>\n"
            ],
            "application/vnd.google.colaboratory.intrinsic+json": {
              "type": "dataframe",
              "repr_error": "0"
            }
          },
          "metadata": {},
          "execution_count": 28
        }
      ]
    },
    {
      "cell_type": "markdown",
      "source": [
        "Question no.15: What are two most common professions?"
      ],
      "metadata": {
        "id": "ZxBJJcp3dFZo"
      }
    },
    {
      "cell_type": "code",
      "source": [
        "cust['profession'].value_counts().head(1)"
      ],
      "metadata": {
        "colab": {
          "base_uri": "https://localhost:8080/",
          "height": 147
        },
        "id": "wuH4Z66CdNvg",
        "outputId": "e39f3142-8c6d-426b-c945-9825a0e80ff7"
      },
      "execution_count": 29,
      "outputs": [
        {
          "output_type": "execute_result",
          "data": {
            "text/plain": [
              "profession\n",
              "Preschool Teacher    112\n",
              "Name: count, dtype: int64"
            ],
            "text/html": [
              "<div>\n",
              "<style scoped>\n",
              "    .dataframe tbody tr th:only-of-type {\n",
              "        vertical-align: middle;\n",
              "    }\n",
              "\n",
              "    .dataframe tbody tr th {\n",
              "        vertical-align: top;\n",
              "    }\n",
              "\n",
              "    .dataframe thead th {\n",
              "        text-align: right;\n",
              "    }\n",
              "</style>\n",
              "<table border=\"1\" class=\"dataframe\">\n",
              "  <thead>\n",
              "    <tr style=\"text-align: right;\">\n",
              "      <th></th>\n",
              "      <th>count</th>\n",
              "    </tr>\n",
              "    <tr>\n",
              "      <th>profession</th>\n",
              "      <th></th>\n",
              "    </tr>\n",
              "  </thead>\n",
              "  <tbody>\n",
              "    <tr>\n",
              "      <th>Preschool Teacher</th>\n",
              "      <td>112</td>\n",
              "    </tr>\n",
              "  </tbody>\n",
              "</table>\n",
              "</div><br><label><b>dtype:</b> int64</label>"
            ]
          },
          "metadata": {},
          "execution_count": 29
        }
      ]
    },
    {
      "cell_type": "markdown",
      "source": [
        "Question no. 16: Can you tell the top 5 most popular email providers? (e.g. gmail.com, yahoo.com, etc...)"
      ],
      "metadata": {
        "id": "43mW0e9Cdmtv"
      }
    },
    {
      "cell_type": "code",
      "source": [
        "cust['email'].apply(lambda x: x.split('@')[1]).value_counts().head()"
      ],
      "metadata": {
        "colab": {
          "base_uri": "https://localhost:8080/",
          "height": 272
        },
        "id": "_ankFP-pd0cA",
        "outputId": "f74c8183-e11e-4443-a7da-bf59583515bb"
      },
      "execution_count": 30,
      "outputs": [
        {
          "output_type": "execute_result",
          "data": {
            "text/plain": [
              "email\n",
              "gmail.com      1687\n",
              "me.com         1676\n",
              "outlook.com    1664\n",
              "live.com       1660\n",
              "hotmail.com    1659\n",
              "Name: count, dtype: int64"
            ],
            "text/html": [
              "<div>\n",
              "<style scoped>\n",
              "    .dataframe tbody tr th:only-of-type {\n",
              "        vertical-align: middle;\n",
              "    }\n",
              "\n",
              "    .dataframe tbody tr th {\n",
              "        vertical-align: top;\n",
              "    }\n",
              "\n",
              "    .dataframe thead th {\n",
              "        text-align: right;\n",
              "    }\n",
              "</style>\n",
              "<table border=\"1\" class=\"dataframe\">\n",
              "  <thead>\n",
              "    <tr style=\"text-align: right;\">\n",
              "      <th></th>\n",
              "      <th>count</th>\n",
              "    </tr>\n",
              "    <tr>\n",
              "      <th>email</th>\n",
              "      <th></th>\n",
              "    </tr>\n",
              "  </thead>\n",
              "  <tbody>\n",
              "    <tr>\n",
              "      <th>gmail.com</th>\n",
              "      <td>1687</td>\n",
              "    </tr>\n",
              "    <tr>\n",
              "      <th>me.com</th>\n",
              "      <td>1676</td>\n",
              "    </tr>\n",
              "    <tr>\n",
              "      <th>outlook.com</th>\n",
              "      <td>1664</td>\n",
              "    </tr>\n",
              "    <tr>\n",
              "      <th>live.com</th>\n",
              "      <td>1660</td>\n",
              "    </tr>\n",
              "    <tr>\n",
              "      <th>hotmail.com</th>\n",
              "      <td>1659</td>\n",
              "    </tr>\n",
              "  </tbody>\n",
              "</table>\n",
              "</div><br><label><b>dtype:</b> int64</label>"
            ]
          },
          "metadata": {},
          "execution_count": 30
        }
      ]
    },
    {
      "cell_type": "markdown",
      "source": [
        "Question no. 17:  Is there any customer who is using email with \"am.edu\"?"
      ],
      "metadata": {
        "id": "6QvhznPJeFFQ"
      }
    },
    {
      "cell_type": "code",
      "source": [
        "cust[cust['email'].apply(lambda x: x.split('@')[1]) == 'am.edu']"
      ],
      "metadata": {
        "colab": {
          "base_uri": "https://localhost:8080/",
          "height": 170
        },
        "id": "Aib-yHCCeP1_",
        "outputId": "ec769153-c1be-41cc-a43f-952ad8bbd700"
      },
      "execution_count": 31,
      "outputs": [
        {
          "output_type": "execute_result",
          "data": {
            "text/plain": [
              "    prefix    first      last         email  gender  age  \\\n",
              "150   Miss  Loretta  Fletcher  barit@am.edu  Female   48   \n",
              "\n",
              "                     company                profession           phone  \\\n",
              "150  York International Corp  Rehabilitation Counselor  (323) 279-8038   \n",
              "\n",
              "      postal province             cc_no   cc_exp  \\\n",
              "150  E5X 8L0       QC  6330000000000000  05/2021   \n",
              "\n",
              "                                cc_type  price(CAD) fav_color              ip  \\\n",
              "150  Diners Club United States & Canada       97.26     White  147.57.240.225   \n",
              "\n",
              "    weekday ampm        date  \n",
              "150  Monday   am  11/07/2066  "
            ],
            "text/html": [
              "\n",
              "  <div id=\"df-a7754f69-2e40-4b45-849e-9ba46f802b86\" class=\"colab-df-container\">\n",
              "    <div>\n",
              "<style scoped>\n",
              "    .dataframe tbody tr th:only-of-type {\n",
              "        vertical-align: middle;\n",
              "    }\n",
              "\n",
              "    .dataframe tbody tr th {\n",
              "        vertical-align: top;\n",
              "    }\n",
              "\n",
              "    .dataframe thead th {\n",
              "        text-align: right;\n",
              "    }\n",
              "</style>\n",
              "<table border=\"1\" class=\"dataframe\">\n",
              "  <thead>\n",
              "    <tr style=\"text-align: right;\">\n",
              "      <th></th>\n",
              "      <th>prefix</th>\n",
              "      <th>first</th>\n",
              "      <th>last</th>\n",
              "      <th>email</th>\n",
              "      <th>gender</th>\n",
              "      <th>age</th>\n",
              "      <th>company</th>\n",
              "      <th>profession</th>\n",
              "      <th>phone</th>\n",
              "      <th>postal</th>\n",
              "      <th>province</th>\n",
              "      <th>cc_no</th>\n",
              "      <th>cc_exp</th>\n",
              "      <th>cc_type</th>\n",
              "      <th>price(CAD)</th>\n",
              "      <th>fav_color</th>\n",
              "      <th>ip</th>\n",
              "      <th>weekday</th>\n",
              "      <th>ampm</th>\n",
              "      <th>date</th>\n",
              "    </tr>\n",
              "  </thead>\n",
              "  <tbody>\n",
              "    <tr>\n",
              "      <th>150</th>\n",
              "      <td>Miss</td>\n",
              "      <td>Loretta</td>\n",
              "      <td>Fletcher</td>\n",
              "      <td>barit@am.edu</td>\n",
              "      <td>Female</td>\n",
              "      <td>48</td>\n",
              "      <td>York International Corp</td>\n",
              "      <td>Rehabilitation Counselor</td>\n",
              "      <td>(323) 279-8038</td>\n",
              "      <td>E5X 8L0</td>\n",
              "      <td>QC</td>\n",
              "      <td>6330000000000000</td>\n",
              "      <td>05/2021</td>\n",
              "      <td>Diners Club United States &amp; Canada</td>\n",
              "      <td>97.26</td>\n",
              "      <td>White</td>\n",
              "      <td>147.57.240.225</td>\n",
              "      <td>Monday</td>\n",
              "      <td>am</td>\n",
              "      <td>11/07/2066</td>\n",
              "    </tr>\n",
              "  </tbody>\n",
              "</table>\n",
              "</div>\n",
              "    <div class=\"colab-df-buttons\">\n",
              "\n",
              "  <div class=\"colab-df-container\">\n",
              "    <button class=\"colab-df-convert\" onclick=\"convertToInteractive('df-a7754f69-2e40-4b45-849e-9ba46f802b86')\"\n",
              "            title=\"Convert this dataframe to an interactive table.\"\n",
              "            style=\"display:none;\">\n",
              "\n",
              "  <svg xmlns=\"http://www.w3.org/2000/svg\" height=\"24px\" viewBox=\"0 -960 960 960\">\n",
              "    <path d=\"M120-120v-720h720v720H120Zm60-500h600v-160H180v160Zm220 220h160v-160H400v160Zm0 220h160v-160H400v160ZM180-400h160v-160H180v160Zm440 0h160v-160H620v160ZM180-180h160v-160H180v160Zm440 0h160v-160H620v160Z\"/>\n",
              "  </svg>\n",
              "    </button>\n",
              "\n",
              "  <style>\n",
              "    .colab-df-container {\n",
              "      display:flex;\n",
              "      gap: 12px;\n",
              "    }\n",
              "\n",
              "    .colab-df-convert {\n",
              "      background-color: #E8F0FE;\n",
              "      border: none;\n",
              "      border-radius: 50%;\n",
              "      cursor: pointer;\n",
              "      display: none;\n",
              "      fill: #1967D2;\n",
              "      height: 32px;\n",
              "      padding: 0 0 0 0;\n",
              "      width: 32px;\n",
              "    }\n",
              "\n",
              "    .colab-df-convert:hover {\n",
              "      background-color: #E2EBFA;\n",
              "      box-shadow: 0px 1px 2px rgba(60, 64, 67, 0.3), 0px 1px 3px 1px rgba(60, 64, 67, 0.15);\n",
              "      fill: #174EA6;\n",
              "    }\n",
              "\n",
              "    .colab-df-buttons div {\n",
              "      margin-bottom: 4px;\n",
              "    }\n",
              "\n",
              "    [theme=dark] .colab-df-convert {\n",
              "      background-color: #3B4455;\n",
              "      fill: #D2E3FC;\n",
              "    }\n",
              "\n",
              "    [theme=dark] .colab-df-convert:hover {\n",
              "      background-color: #434B5C;\n",
              "      box-shadow: 0px 1px 3px 1px rgba(0, 0, 0, 0.15);\n",
              "      filter: drop-shadow(0px 1px 2px rgba(0, 0, 0, 0.3));\n",
              "      fill: #FFFFFF;\n",
              "    }\n",
              "  </style>\n",
              "\n",
              "    <script>\n",
              "      const buttonEl =\n",
              "        document.querySelector('#df-a7754f69-2e40-4b45-849e-9ba46f802b86 button.colab-df-convert');\n",
              "      buttonEl.style.display =\n",
              "        google.colab.kernel.accessAllowed ? 'block' : 'none';\n",
              "\n",
              "      async function convertToInteractive(key) {\n",
              "        const element = document.querySelector('#df-a7754f69-2e40-4b45-849e-9ba46f802b86');\n",
              "        const dataTable =\n",
              "          await google.colab.kernel.invokeFunction('convertToInteractive',\n",
              "                                                    [key], {});\n",
              "        if (!dataTable) return;\n",
              "\n",
              "        const docLinkHtml = 'Like what you see? Visit the ' +\n",
              "          '<a target=\"_blank\" href=https://colab.research.google.com/notebooks/data_table.ipynb>data table notebook</a>'\n",
              "          + ' to learn more about interactive tables.';\n",
              "        element.innerHTML = '';\n",
              "        dataTable['output_type'] = 'display_data';\n",
              "        await google.colab.output.renderOutput(dataTable, element);\n",
              "        const docLink = document.createElement('div');\n",
              "        docLink.innerHTML = docLinkHtml;\n",
              "        element.appendChild(docLink);\n",
              "      }\n",
              "    </script>\n",
              "  </div>\n",
              "\n",
              "\n",
              "    </div>\n",
              "  </div>\n"
            ],
            "application/vnd.google.colaboratory.intrinsic+json": {
              "type": "dataframe",
              "repr_error": "0"
            }
          },
          "metadata": {},
          "execution_count": 31
        }
      ]
    },
    {
      "cell_type": "markdown",
      "source": [
        "The last qustion\n",
        "Question no. 18: Which day of the week, the store gets more customers?"
      ],
      "metadata": {
        "id": "IKHqe1lnelXn"
      }
    },
    {
      "cell_type": "code",
      "source": [
        "cust['weekday'].value_counts().head()"
      ],
      "metadata": {
        "colab": {
          "base_uri": "https://localhost:8080/",
          "height": 272
        },
        "id": "GqLbWx9XeyXX",
        "outputId": "c5ff0745-c118-465b-9dd0-f2c5e2ee4d33"
      },
      "execution_count": 32,
      "outputs": [
        {
          "output_type": "execute_result",
          "data": {
            "text/plain": [
              "weekday\n",
              "Saturday     4376\n",
              "Wednesday    4365\n",
              "Thursday     4327\n",
              "Friday       4316\n",
              "Monday       4216\n",
              "Name: count, dtype: int64"
            ],
            "text/html": [
              "<div>\n",
              "<style scoped>\n",
              "    .dataframe tbody tr th:only-of-type {\n",
              "        vertical-align: middle;\n",
              "    }\n",
              "\n",
              "    .dataframe tbody tr th {\n",
              "        vertical-align: top;\n",
              "    }\n",
              "\n",
              "    .dataframe thead th {\n",
              "        text-align: right;\n",
              "    }\n",
              "</style>\n",
              "<table border=\"1\" class=\"dataframe\">\n",
              "  <thead>\n",
              "    <tr style=\"text-align: right;\">\n",
              "      <th></th>\n",
              "      <th>count</th>\n",
              "    </tr>\n",
              "    <tr>\n",
              "      <th>weekday</th>\n",
              "      <th></th>\n",
              "    </tr>\n",
              "  </thead>\n",
              "  <tbody>\n",
              "    <tr>\n",
              "      <th>Saturday</th>\n",
              "      <td>4376</td>\n",
              "    </tr>\n",
              "    <tr>\n",
              "      <th>Wednesday</th>\n",
              "      <td>4365</td>\n",
              "    </tr>\n",
              "    <tr>\n",
              "      <th>Thursday</th>\n",
              "      <td>4327</td>\n",
              "    </tr>\n",
              "    <tr>\n",
              "      <th>Friday</th>\n",
              "      <td>4316</td>\n",
              "    </tr>\n",
              "    <tr>\n",
              "      <th>Monday</th>\n",
              "      <td>4216</td>\n",
              "    </tr>\n",
              "  </tbody>\n",
              "</table>\n",
              "</div><br><label><b>dtype:</b> int64</label>"
            ]
          },
          "metadata": {},
          "execution_count": 32
        }
      ]
    },
    {
      "cell_type": "markdown",
      "source": [
        "Thanks"
      ],
      "metadata": {
        "id": "kxRGUiyjfHgn"
      }
    }
  ],
  "metadata": {
    "colab": {
      "provenance": [],
      "include_colab_link": true
    },
    "kernelspec": {
      "display_name": "Python 3",
      "name": "python3"
    },
    "language_info": {
      "name": "python"
    }
  },
  "nbformat": 4,
  "nbformat_minor": 0
}