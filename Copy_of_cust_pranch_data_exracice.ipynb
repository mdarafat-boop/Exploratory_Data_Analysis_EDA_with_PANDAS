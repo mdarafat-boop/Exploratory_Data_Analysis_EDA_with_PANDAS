{
  "cells": [
    {
      "cell_type": "markdown",
      "metadata": {
        "id": "view-in-github",
        "colab_type": "text"
      },
      "source": [
        "<a href=\"https://colab.research.google.com/github/mdarafat-boop/Exploratory_Data_Analysis_EDA_with_PANDAS/blob/main/Copy_of_cust_pranch_data_exracice.ipynb\" target=\"_parent\"><img src=\"https://colab.research.google.com/assets/colab-badge.svg\" alt=\"Open In Colab\"/></a>"
      ]
    },
    {
      "cell_type": "code",
      "execution_count": null,
      "metadata": {
        "id": "SbSQ7BV5H0Qw",
        "colab": {
          "base_uri": "https://localhost:8080/"
        },
        "outputId": "b2218400-853b-4a58-a292-8f82bb8f62d9"
      },
      "outputs": [
        {
          "output_type": "stream",
          "name": "stdout",
          "text": [
            "Drive already mounted at /content/drive; to attempt to forcibly remount, call drive.mount(\"/content/drive\", force_remount=True).\n"
          ]
        }
      ],
      "source": [
        "import pandas as pd\n",
        "import numpy as np\n",
        "import csv\n",
        "from google.colab import drive\n",
        "drive.mount('/content/drive')\n",
        "file_path = '/content/drive/MyDrive/cust_purch_data_exracice/Cust_Purch_FakeData.csv'\n",
        "\n",
        "cust = pd.read_csv(file_path)\n"
      ]
    },
    {
      "cell_type": "markdown",
      "source": [
        "Questin 1: How many entries your data have? Can you tell the no. of columns in your data?"
      ],
      "metadata": {
        "id": "0QbDUvZeXO1C"
      }
    },
    {
      "cell_type": "code",
      "source": [
        "cust.info() # hit play button to run it"
      ],
      "metadata": {
        "id": "LcQdDyeBXNt7"
      },
      "execution_count": null,
      "outputs": []
    },
    {
      "cell_type": "markdown",
      "source": [
        "Question no 2: What are the max and min ages of your customer? Can you find mean of your customer?"
      ],
      "metadata": {
        "id": "5bAl3KDBZFLE"
      }
    },
    {
      "cell_type": "code",
      "source": [
        "print('The maximun ages of the customers: ',cust['age'].max())\n",
        "print('The minimum ages of the customers: ',cust['age'].min())\n",
        "print('The avarege ages of the customers: ',cust['age'].mean().round(2))"
      ],
      "metadata": {
        "id": "APw6O61yZL8z"
      },
      "execution_count": null,
      "outputs": []
    },
    {
      "cell_type": "markdown",
      "source": [
        "Question no 3: What are the three most common customer's names?"
      ],
      "metadata": {
        "id": "gBu4sVNJaVZz"
      }
    },
    {
      "cell_type": "code",
      "source": [
        "cust['first'].value_counts().head(3)"
      ],
      "metadata": {
        "id": "wEqXGvKlahhb"
      },
      "execution_count": null,
      "outputs": []
    },
    {
      "cell_type": "markdown",
      "source": [
        "Question no 4:  Two customers have the same phone number, can you find those customers?"
      ],
      "metadata": {
        "id": "a_LNoEnzbt3T"
      }
    },
    {
      "cell_type": "code",
      "source": [
        "cust.groupby('phone')['first'].count().sort_values(ascending=False).head(1)"
      ],
      "metadata": {
        "id": "jdIXdMsEb1VM"
      },
      "execution_count": null,
      "outputs": []
    }
  ],
  "metadata": {
    "colab": {
      "provenance": [],
      "include_colab_link": true
    },
    "kernelspec": {
      "display_name": "Python 3",
      "name": "python3"
    },
    "language_info": {
      "name": "python"
    }
  },
  "nbformat": 4,
  "nbformat_minor": 0
}